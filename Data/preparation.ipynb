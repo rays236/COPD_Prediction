{
 "cells": [
  {
   "cell_type": "markdown",
   "metadata": {},
   "source": [
    "# Data Collection\n",
    "\n",
    "## Identify the data sources\n",
    "- **Health Data Portals** : WHO, World Bank, Nepal's Ministry of Health\n",
    "- **Research Papers** : Google Scholar\n",
    "- **Public Datasets** : Kaggle, Data.gov, Open Data Nepal\n",
    "- **Hospitals & Clinics**"
   ]
  },
  {
   "cell_type": "markdown",
   "metadata": {},
   "source": [
    "# References\n",
    "- __[World Health Organization](https://www.who.int/home/search-results?indexCatalogue=genericsearchindex1&searchQuery=Chronic%20Obstructive%20Pulmonary%20Disease&wordsMode=AnyWord)__\n",
    "- __[World Bank](https://www.worldbank.org/en/search?q=Chronic+Obstructive+Pulmonary+Diseases)__\n",
    "- __[Dovepress](https://www.dovepress.com/factors-associated-with-chronic-obstructive-pulmonary-diseases-in-nepa-peer-reviewed-fulltext-article-COPD)__\n",
    "- __[Taylor & Francis Group](https://www.tandfonline.com/doi/pdf/10.2147/COPD.S268110)__\n",
    "- __[Phenoflow on Github](https://github.com/phenoflow/Chronic-Obstructive-Pulmonary-Disease---9387f040-1873-11ef-9de4-4d4ea830ad16?tab=readme-ov-file)__"
   ]
  },
  {
   "cell_type": "markdown",
   "metadata": {},
   "source": []
  }
 ],
 "metadata": {
  "language_info": {
   "name": "python"
  }
 },
 "nbformat": 4,
 "nbformat_minor": 2
}
